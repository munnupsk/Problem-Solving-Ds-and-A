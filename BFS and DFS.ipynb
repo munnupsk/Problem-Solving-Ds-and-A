{
 "cells": [
  {
   "cell_type": "markdown",
   "metadata": {},
   "source": [
    "# Breadth Firtst Search "
   ]
  },
  {
   "cell_type": "raw",
   "metadata": {},
   "source": [
    "Step 1: Push the root node in the Queue.\n",
    "Step 2: Loop until the queue is empty.\n",
    "Step 3: Remove the node from the Queue.\n",
    "Step 4: If the removed node has unvisited child nodes, mark them as visited and insert the unvisited children in the queue. "
   ]
  },
  {
   "cell_type": "code",
   "execution_count": 34,
   "metadata": {},
   "outputs": [
    {
     "name": "stdout",
     "output_type": "stream",
     "text": [
      "a\n",
      "c\n",
      "b\n",
      "d\n",
      "e\n"
     ]
    }
   ],
   "source": [
    "from collections import defaultdict\n",
    "class Graph:\n",
    "    def __init__(self):\n",
    "        self.graph=defaultdict(list)\n",
    "    def addEdge(self,u,v):\n",
    "        self.graph[u].append(v)\n",
    "    def BFS(self,startnode):\n",
    "        seen,queue=set([startnode]),collections.deque([startnode])\n",
    "        while queue:\n",
    "            vertex=queue.popleft()\n",
    "            print(vertex)\n",
    "            for node in self.graph[vertex]:\n",
    "                if node not in seen:\n",
    "                    seen.add(node)\n",
    "                    queue.append(node)\n",
    "                \n",
    "        #print(seen,queue)\n",
    "        \n",
    "    \n",
    "g=Graph() \n",
    "g.addEdge('a','c')\n",
    "g.addEdge('a','b')\n",
    "g.addEdge('b','a')\n",
    "g.addEdge('b','d')\n",
    "g.addEdge('c','a')\n",
    "g.addEdge('c','d')\n",
    "g.addEdge('d','e')\n",
    "g.addEdge('e','a')\n",
    "\n",
    "\n",
    "g.BFS('a')"
   ]
  },
  {
   "cell_type": "markdown",
   "metadata": {},
   "source": [
    "# Depth First Search "
   ]
  },
  {
   "cell_type": "code",
   "execution_count": null,
   "metadata": {},
   "outputs": [],
   "source": [
    "Step 1: Push the root node in the Stack.\n",
    "Step 2: Loop until stack is empty.\n",
    "Step 3: Peek the node of the stack.\n",
    "Step 4: If the node has unvisited child nodes, get the unvisited child node, mark it as traversed and push it on stack.\n",
    "Step 5: If the node does not have any unvisited child nodes, pop the node from the stack."
   ]
  },
  {
   "cell_type": "code",
   "execution_count": 43,
   "metadata": {},
   "outputs": [
    {
     "name": "stdout",
     "output_type": "stream",
     "text": [
      "0\n",
      "1\n",
      "3\n",
      "4\n",
      "2\n"
     ]
    }
   ],
   "source": [
    "from collections import defaultdict\n",
    "class Graph:\n",
    "    def __init__(self):\n",
    "        self.graph=defaultdict(list)\n",
    "    def addEdge(self,u,v):\n",
    "        \n",
    "        self.graph[u].append(v)\n",
    "        \n",
    "    def DFS(self, vertex, visited=None):\n",
    "        \n",
    "        if visited is None:\n",
    "            visited = set()\n",
    "        visited.add(vertex)\n",
    "        print(vertex)\n",
    "        for node in self.graph[vertex] :\n",
    "            if node not in visited:\n",
    "                self.DFS( node, visited)\n",
    "                \n",
    "g=Graph() \n",
    "g.addEdge('0','1')\n",
    "g.addEdge('0','2')\n",
    "g.addEdge('1','0')\n",
    "g.addEdge('1','3')\n",
    "g.addEdge('1','4')\n",
    "g.addEdge('2','0')\n",
    "g.addEdge('2','4')\n",
    "g.addEdge('3','1')\n",
    "g.addEdge('4','1')\n",
    "g.addEdge('4','2')\n",
    "g.addEdge('4','3')\n",
    "\n",
    "\n",
    "g.DFS('0')"
   ]
  },
  {
   "cell_type": "code",
   "execution_count": null,
   "metadata": {},
   "outputs": [],
   "source": []
  }
 ],
 "metadata": {
  "kernelspec": {
   "display_name": "Python 3",
   "language": "python",
   "name": "python3"
  },
  "language_info": {
   "codemirror_mode": {
    "name": "ipython",
    "version": 3
   },
   "file_extension": ".py",
   "mimetype": "text/x-python",
   "name": "python",
   "nbconvert_exporter": "python",
   "pygments_lexer": "ipython3",
   "version": "3.7.3"
  }
 },
 "nbformat": 4,
 "nbformat_minor": 2
}
