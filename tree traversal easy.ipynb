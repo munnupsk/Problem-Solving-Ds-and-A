{
 "cells": [
  {
   "cell_type": "code",
   "execution_count": 8,
   "metadata": {},
   "outputs": [
    {
     "name": "stdout",
     "output_type": "stream",
     "text": [
      "25\n",
      "35\n",
      "45\n",
      "55\n",
      "65\n",
      "75\n",
      "85\n"
     ]
    }
   ],
   "source": [
    "class TreeNode:\n",
    "    def __init__(self,key):\n",
    "        self.left=None\n",
    "        self.right=None\n",
    "        self.data=key\n",
    "def insertNode(root,Node):\n",
    "    \n",
    "    \n",
    "    \n",
    "        if root.data<Node.data:\n",
    "            if root.right is None:\n",
    "                root.right=Node\n",
    "            else:\n",
    "                insertNode(root.right,Node)\n",
    "        else:\n",
    "            if root.left is None:\n",
    "                root.left=Node\n",
    "            else:\n",
    "                insertNode(root.left,Node)\n",
    "\n",
    "def inOrderTraversal(root):\n",
    "    if root:\n",
    "        inOrderTraversal(root.left)\n",
    "        print(root.data)\n",
    "        inOrderTraversal(root.right)\n",
    "        \n",
    "# Creating a new BST with root as 50\n",
    "r = TreeNode(55) \n",
    "insertNode(r,TreeNode(35)) \n",
    "insertNode(r,TreeNode(25)) \n",
    "insertNode(r,TreeNode(45)) \n",
    "insertNode(r,TreeNode(75)) \n",
    "insertNode(r,TreeNode(65)) \n",
    "insertNode(r,TreeNode(85)) \n",
    "\n",
    "# Print inoder traversal of the BST \n",
    "inOrderTraversal(r)"
   ]
  },
  {
   "cell_type": "code",
   "execution_count": null,
   "metadata": {},
   "outputs": [],
   "source": []
  }
 ],
 "metadata": {
  "kernelspec": {
   "display_name": "Python 3",
   "language": "python",
   "name": "python3"
  },
  "language_info": {
   "codemirror_mode": {
    "name": "ipython",
    "version": 3
   },
   "file_extension": ".py",
   "mimetype": "text/x-python",
   "name": "python",
   "nbconvert_exporter": "python",
   "pygments_lexer": "ipython3",
   "version": "3.7.3"
  }
 },
 "nbformat": 4,
 "nbformat_minor": 2
}
